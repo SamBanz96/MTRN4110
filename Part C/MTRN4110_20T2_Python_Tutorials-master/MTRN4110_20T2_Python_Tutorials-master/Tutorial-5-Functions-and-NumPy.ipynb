{
 "cells": [
  {
   "cell_type": "markdown",
   "metadata": {},
   "source": [
    "# Tutorial 5 Functions and NumPy\n",
    "\n",
    "## Aim\n",
    "\n",
    "In this tutorial, you will learn how to define custom function and an important library Numpy.\n",
    "\n",
    "## Prerequisites\n",
    "\n",
    "Python3"
   ]
  },
  {
   "cell_type": "markdown",
   "metadata": {},
   "source": [
    "### Functions\n",
    "A function is a block of code which only runs when it is called."
   ]
  },
  {
   "cell_type": "code",
   "execution_count": 1,
   "metadata": {},
   "outputs": [
    {
     "name": "stdout",
     "output_type": "stream",
     "text": [
      "mtrn4110 is the best!\n"
     ]
    }
   ],
   "source": [
    "def mtrn4110():      # define a function called mtrn4110 which print a sentence\n",
    "    print(\"mtrn4110 is the best!\")   \n",
    "\n",
    "mtrn4110()   # call the function"
   ]
  },
  {
   "cell_type": "code",
   "execution_count": 2,
   "metadata": {},
   "outputs": [
    {
     "name": "stdout",
     "output_type": "stream",
     "text": [
      "maximum number is 8\n"
     ]
    }
   ],
   "source": [
    "def find_maximum_number_index(list):   # define a function which returns maximum number in the list\n",
    "    for index, item in enumerate(list):\n",
    "        if index == 0:\n",
    "            maximum = item\n",
    "        elif item > maximum:\n",
    "            maximum = item\n",
    "    \n",
    "    return maximum\n",
    "\n",
    "list_1 = [5, 2, 1, 8, 3, 4]\n",
    "maximum_number = find_maximum_number_index(list_1)\n",
    "print('maximum number is {}'.format(maximum_number))"
   ]
  },
  {
   "cell_type": "markdown",
   "metadata": {},
   "source": [
    "### NumPy\n",
    "NumPy is a library for the Python programming language, adding support for large, multi-dimensional arrays and matrices, along with a large collection of high-level mathematical functions to operate on these arrays."
   ]
  },
  {
   "cell_type": "code",
   "execution_count": 3,
   "metadata": {},
   "outputs": [
    {
     "name": "stdout",
     "output_type": "stream",
     "text": [
      "<class 'numpy.ndarray'>\n",
      "(6,)\n",
      "1\n",
      "[1 8]\n",
      "5\n"
     ]
    }
   ],
   "source": [
    "# import the library\n",
    "import numpy as np\n",
    "\n",
    "# Create array\n",
    "list_2 = np.array([5, 2, 1, 8, 3, 4])  # create a one dimensional array list_2\n",
    "print(type(list_2))                    # print the type\n",
    "print(list_2.shape)                    # print the shape of list_2\n",
    "print(list_2[2])                       # access third item\n",
    "\n",
    "# Slicing and indexing\n",
    "print(list_2[2:4:1])              # '2' is starting index, '4' is stopping index, '1' is the step\n",
    "\n",
    "list_3 = np.array(([1, 2, 3], [3, 4, 5])) # create a two dimensional array list_3\n",
    "print(list_3[1][2])                       # print '5' "
   ]
  },
  {
   "cell_type": "code",
   "execution_count": 4,
   "metadata": {},
   "outputs": [
    {
     "name": "stdout",
     "output_type": "stream",
     "text": [
      "[[0. 0.]\n",
      " [0. 0.]]\n",
      "[[1.]\n",
      " [1.]\n",
      " [1.]]\n"
     ]
    }
   ],
   "source": [
    "# Useful functions to create arrays\n",
    "\n",
    "a = np.zeros((2, 2))   # create a 2 by 2 array of all zeros\n",
    "print(a)\n",
    "\n",
    "b = np.ones((3, 1))    # create a 3 by 1 array of all ones\n",
    "print(b)"
   ]
  },
  {
   "cell_type": "code",
   "execution_count": 5,
   "metadata": {},
   "outputs": [
    {
     "name": "stdout",
     "output_type": "stream",
     "text": [
      "[ True False False  True  True  True]\n",
      "[5 8 3 4]\n",
      "[5 8 3 4]\n"
     ]
    }
   ],
   "source": [
    "# Boolean array indexing\n",
    "bool_idx = (list_2 > 2)  # This will returns a numpy array of booleans of the same shape as list_2\n",
    "                         # and each element of bool_idx tells you whether each element of list_2 \n",
    "                         # at the same location is bigger than 2 \n",
    "print(bool_idx)\n",
    "print(list_2[bool_idx])  # print all values of list_2 that are bigger than 2\n",
    "\n",
    "# All of the above in one statement\n",
    "print(list_2[list_2>2])\n"
   ]
  },
  {
   "cell_type": "code",
   "execution_count": 6,
   "metadata": {},
   "outputs": [
    {
     "name": "stdout",
     "output_type": "stream",
     "text": [
      "int32\n",
      "float64\n",
      "uint8\n"
     ]
    }
   ],
   "source": [
    "# Datatypes\n",
    "a = np.array([1, 2])\n",
    "print(a.dtype)\n",
    "\n",
    "b = np.array([1, 2.0])\n",
    "print(b.dtype)\n",
    "\n",
    "c =np.array([1, 2], dtype=np.uint8)   # Force a particular datatype\n",
    "print(c.dtype)    "
   ]
  },
  {
   "cell_type": "code",
   "execution_count": 7,
   "metadata": {},
   "outputs": [
    {
     "name": "stdout",
     "output_type": "stream",
     "text": [
      "[[ 6.  8.]\n",
      " [10. 12.]]\n",
      "[[ 6.  8.]\n",
      " [10. 12.]]\n",
      "[[-4. -4.]\n",
      " [-4. -4.]]\n",
      "[[-4. -4.]\n",
      " [-4. -4.]]\n",
      "[[ 5. 12.]\n",
      " [21. 32.]]\n",
      "[[ 5. 12.]\n",
      " [21. 32.]]\n",
      "[[0.2        0.33333333]\n",
      " [0.42857143 0.5       ]]\n",
      "[[0.2        0.33333333]\n",
      " [0.42857143 0.5       ]]\n"
     ]
    }
   ],
   "source": [
    "# Array Basic Math\n",
    "\n",
    "x = np.array([[1,2],[3,4]], dtype=np.float64)\n",
    "y = np.array([[5,6],[7,8]], dtype=np.float64)\n",
    "\n",
    "# Elementwise sum\n",
    "print(x + y)\n",
    "print(np.add(x, y))\n",
    "\n",
    "# Elementwise subtraction\n",
    "print(x - y)\n",
    "print(np.subtract(x, y))\n",
    "\n",
    "# Elementwise product\n",
    "print(x * y)\n",
    "print(np.multiply(x, y))\n",
    "\n",
    "# Elementwise division\n",
    "print(x / y)\n",
    "print(np.divide(x, y))"
   ]
  },
  {
   "cell_type": "code",
   "execution_count": 8,
   "metadata": {},
   "outputs": [
    {
     "name": "stdout",
     "output_type": "stream",
     "text": [
      "13\n",
      "[4 9]\n",
      "[6 7]\n",
      "5\n",
      "[3 5]\n",
      "[5 4]\n",
      "1\n",
      "[1 4]\n",
      "[1 3]\n",
      "[[1 2 3]\n",
      " [4 5 6]\n",
      " [7 8 9]]\n"
     ]
    }
   ],
   "source": [
    "# Useful functions for performing advanced computing\n",
    "\n",
    "m = np.array([[1,5],\n",
    "              [3,4]])\n",
    "print(np.sum(m))          # Compute sum of all elements \n",
    "print(np.sum(m, axis=0))  # Compute sum of each column  \n",
    "print(np.sum(m, axis=1))  # Compute sum of each row; prints\n",
    "\n",
    "print(np.amax(m))           # Find the maximum value of all elements.\n",
    "print(np.amax(m, axis = 0)) # Maxima along the first axis\n",
    "print(np.amax(m, axis = 1)) # Maxima along the second axis\n",
    "\n",
    "print(np.amin(m))           # Find the minimum value of all elements.\n",
    "print(np.amin(m, axis = 0)) # Minima along the first axis\n",
    "print(np.amin(m, axis = 1)) # Minima along the second axis\n",
    "\n",
    "n = np.array([1,2,3,4,5,6,7,8,9])\n",
    "n = np.reshape(n,(3,3))     # Reshape array n to 3 by 3\n",
    "print(n)"
   ]
  }
 ],
 "metadata": {
  "kernelspec": {
   "display_name": "Python 3",
   "language": "python",
   "name": "python3"
  },
  "language_info": {
   "codemirror_mode": {
    "name": "ipython",
    "version": 3
   },
   "file_extension": ".py",
   "mimetype": "text/x-python",
   "name": "python",
   "nbconvert_exporter": "python",
   "pygments_lexer": "ipython3",
   "version": "3.7.7"
  }
 },
 "nbformat": 4,
 "nbformat_minor": 2
}
