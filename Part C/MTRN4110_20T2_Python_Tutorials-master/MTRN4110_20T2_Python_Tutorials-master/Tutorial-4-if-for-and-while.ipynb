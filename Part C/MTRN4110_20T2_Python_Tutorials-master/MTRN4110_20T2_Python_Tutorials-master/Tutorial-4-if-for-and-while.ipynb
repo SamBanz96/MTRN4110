{
 "cells": [
  {
   "cell_type": "markdown",
   "metadata": {},
   "source": [
    "# Tutorial 4 if, for, while\n",
    "\n",
    "## Aim\n",
    "\n",
    "In this tutorial, you will learn conditional statements and loops.\n",
    "\n",
    "## Prerequisites\n",
    "\n",
    "Python3"
   ]
  },
  {
   "cell_type": "markdown",
   "metadata": {},
   "source": [
    "## 1. if, elif, else\n"
   ]
  },
  {
   "cell_type": "code",
   "execution_count": 1,
   "metadata": {},
   "outputs": [
    {
     "name": "stdout",
     "output_type": "stream",
     "text": [
      "var_1 and var_2 are the same\n",
      "var_1 and var_2 are the same\n"
     ]
    }
   ],
   "source": [
    "var_1 = 256\n",
    "var_2 = 256\n",
    "\n",
    "if var_1 > var_2:\n",
    "    print('var_2 is larger than var_1')\n",
    "elif var_1 == var_2:\n",
    "    print('var_1 and var_2 are the same')\n",
    "else:\n",
    "    print('var_1 is smaller than var_2')\n",
    "\n",
    "# Short hand if ...else\n",
    "print(\"var_1 and var_2 are the same\") if var_1 == var_2 else print(\"var_1 is not equal to var_2\") "
   ]
  },
  {
   "cell_type": "code",
   "execution_count": 2,
   "metadata": {},
   "outputs": [
    {
     "name": "stdout",
     "output_type": "stream",
     "text": [
      "unsw is one of the best univeristies\n"
     ]
    }
   ],
   "source": [
    "best_unis = ['unsw', 'usyd', 'uts']   # check if 'unsw' is in the list_1\n",
    "if 'unsw' in best_unis:\n",
    "    print('unsw is one of the best univeristies')"
   ]
  },
  {
   "cell_type": "markdown",
   "metadata": {},
   "source": [
    "### 2. for loop"
   ]
  },
  {
   "cell_type": "code",
   "execution_count": 3,
   "metadata": {},
   "outputs": [
    {
     "name": "stdout",
     "output_type": "stream",
     "text": [
      "unsw\n",
      "usyd\n",
      "uts\n"
     ]
    }
   ],
   "source": [
    "for x in best_unis:    # iterating over a list\n",
    "    print(x)"
   ]
  },
  {
   "cell_type": "code",
   "execution_count": 4,
   "metadata": {},
   "outputs": [
    {
     "name": "stdout",
     "output_type": "stream",
     "text": [
      "u\n",
      "n\n",
      "s\n",
      "w\n"
     ]
    }
   ],
   "source": [
    "for x in 'unsw':    # iterating over a string\n",
    "    print(x)"
   ]
  },
  {
   "cell_type": "code",
   "execution_count": 5,
   "metadata": {},
   "outputs": [
    {
     "name": "stdout",
     "output_type": "stream",
     "text": [
      "0 unsw\n",
      "1 usyd\n",
      "2 uts\n"
     ]
    }
   ],
   "source": [
    "for index in range(len(best_unis)):  # iterating by index\n",
    "    print(index, best_unis[index]) "
   ]
  },
  {
   "cell_type": "code",
   "execution_count": 6,
   "metadata": {},
   "outputs": [
    {
     "name": "stdout",
     "output_type": "stream",
     "text": [
      "Letter u is not n\n",
      "Letter s is not n\n",
      "Letter w is not n\n"
     ]
    }
   ],
   "source": [
    "# Loop Control Statement\n",
    "# print all letters except 'n' in the string 'unsw'\n",
    "for letter in 'unsw':\n",
    "    if letter == 'n':\n",
    "        continue\n",
    "    print('Letter {} is not n'.format(letter))"
   ]
  },
  {
   "cell_type": "markdown",
   "metadata": {},
   "source": [
    "### 3. while loop"
   ]
  },
  {
   "cell_type": "code",
   "execution_count": 7,
   "metadata": {},
   "outputs": [
    {
     "name": "stdout",
     "output_type": "stream",
     "text": [
      "1\n",
      "2\n"
     ]
    }
   ],
   "source": [
    "number = 1\n",
    "while number < 3:  # print number as long as number is less than 3\n",
    "    print(number)\n",
    "    number += 1   # number "
   ]
  },
  {
   "cell_type": "code",
   "execution_count": 8,
   "metadata": {},
   "outputs": [
    {
     "name": "stdout",
     "output_type": "stream",
     "text": [
      "5\n",
      "6\n",
      "7\n",
      "8\n",
      "9\n"
     ]
    }
   ],
   "source": [
    "number = 5\n",
    "while number < 100:    \n",
    "    print(number)    \n",
    "    if number == 9:   # break the loop when number is 9\n",
    "        break\n",
    "    number += 1 "
   ]
  },
  {
   "cell_type": "code",
   "execution_count": 9,
   "metadata": {},
   "outputs": [
    {
     "name": "stdout",
     "output_type": "stream",
     "text": [
      "4\n",
      "6\n",
      "7\n",
      "8\n"
     ]
    }
   ],
   "source": [
    "number = 3\n",
    "while number < 8:\n",
    "    number += 1\n",
    "    if number == 5:  # continue the loop when number is 5 but do not print it\n",
    "        continue\n",
    "    print(number)"
   ]
  }
 ],
 "metadata": {
  "kernelspec": {
   "display_name": "Python 3",
   "language": "python",
   "name": "python3"
  },
  "language_info": {
   "codemirror_mode": {
    "name": "ipython",
    "version": 3
   },
   "file_extension": ".py",
   "mimetype": "text/x-python",
   "name": "python",
   "nbconvert_exporter": "python",
   "pygments_lexer": "ipython3",
   "version": "3.7.7"
  }
 },
 "nbformat": 4,
 "nbformat_minor": 2
}
