{
 "cells": [
  {
   "cell_type": "markdown",
   "metadata": {},
   "source": [
    "# Tutorial 2 Variables, Boolean and Operators\n",
    "\n",
    "## Aim\n",
    "\n",
    "In this tutorial, you will learn variables, boolean, and operators.\n",
    "\n",
    "## Prerequisites\n",
    "\n",
    "Python3"
   ]
  },
  {
   "cell_type": "markdown",
   "metadata": {},
   "source": [
    "## 1. Variables and Booleans"
   ]
  },
  {
   "cell_type": "code",
   "execution_count": 1,
   "metadata": {},
   "outputs": [
    {
     "name": "stdout",
     "output_type": "stream",
     "text": [
      "<class 'int'> 1\n",
      "<class 'float'> 1.1\n"
     ]
    }
   ],
   "source": [
    "var_1 = 1   # create a variable called 'var_1' and assign 1 to it \n",
    "var_2 = 1.1 # create a variable called 'var_2' and assign 1.1 to it\n",
    "\n",
    "print(type(var_1), var_1) # var_1 is of type int\n",
    "print(type(var_2), var_2) # var_1 is of type float"
   ]
  },
  {
   "cell_type": "code",
   "execution_count": 2,
   "metadata": {},
   "outputs": [
    {
     "name": "stdout",
     "output_type": "stream",
     "text": [
      "<class 'str'> mtrn4110\n"
     ]
    }
   ],
   "source": [
    "str_1 = 'mtrn4110' # create a variable called 'str_1' and assign 'mtrn4110' to it \n",
    "print(type(str_1), str_1) # var_1 is of type str\n"
   ]
  },
  {
   "cell_type": "code",
   "execution_count": 3,
   "metadata": {},
   "outputs": [
    {
     "name": "stdout",
     "output_type": "stream",
     "text": [
      "<class 'bool'> True\n",
      "<class 'bool'> False\n"
     ]
    }
   ],
   "source": [
    "bool_1 = True # create a \n",
    "print(type(bool_1), bool_1)\n",
    "bool_2 = False\n",
    "print(type(bool_2), bool_2)\n"
   ]
  },
  {
   "cell_type": "markdown",
   "metadata": {},
   "source": [
    "## 2. Assign Value to Multiple Variables\n",
    "Python allows you to assign a single value to several variables simultaneously. For example −"
   ]
  },
  {
   "cell_type": "code",
   "execution_count": 3,
   "metadata": {},
   "outputs": [
    {
     "name": "stdout",
     "output_type": "stream",
     "text": [
      "<class 'int'> 1\n",
      "<class 'int'> 1\n",
      "<class 'int'> 1\n"
     ]
    }
   ],
   "source": [
    "var_1 = var_2 = var_3 = 1\n",
    "\n",
    "print(type(var_1), var_1)\n",
    "print(type(var_2), var_2)\n",
    "print(type(var_3), var_3)"
   ]
  },
  {
   "cell_type": "markdown",
   "metadata": {},
   "source": [
    "Here, an integer object is created with the value 1, and all three variables are assigned to the same memory location. \n",
    "You can also assign multiple objects to multiple variables. For example −"
   ]
  },
  {
   "cell_type": "code",
   "execution_count": 4,
   "metadata": {},
   "outputs": [
    {
     "name": "stdout",
     "output_type": "stream",
     "text": [
      "<class 'int'> 1\n",
      "<class 'str'> mtrn4110\n",
      "<class 'bool'> True\n"
     ]
    }
   ],
   "source": [
    "var_1, var_2, var_3 = 1, \"mtrn4110\", True\n",
    "\n",
    "print(type(var_1), var_1)\n",
    "print(type(var_2), var_2)\n",
    "print(type(var_3), var_3)"
   ]
  },
  {
   "cell_type": "markdown",
   "metadata": {},
   "source": [
    "Here, an integer object with value 1 is assigned to variable var_1, a string object with the value \"mtrn4110\" is assigned to variable var_2, and a boolean object with value True is assigned to var_3 simultaneously."
   ]
  },
  {
   "cell_type": "markdown",
   "metadata": {},
   "source": [
    "## 3. Type Conversion"
   ]
  },
  {
   "cell_type": "code",
   "execution_count": 4,
   "metadata": {},
   "outputs": [
    {
     "name": "stdout",
     "output_type": "stream",
     "text": [
      "<class 'float'> 1.0\n",
      "<class 'int'> 1\n",
      "<class 'bool'> False\n",
      "<class 'bool'> True\n",
      "<class 'bool'> False\n"
     ]
    }
   ],
   "source": [
    "var_5 = float(var_1)\n",
    "print(type(var_5), var_5)\n",
    "\n",
    "var_6 = int(var_2)\n",
    "print(type(var_6), var_6)\n",
    "\n",
    "bool_2 = bool(0)\n",
    "print(type(bool_2), bool_2)\n",
    "\n",
    "bool_3 = bool(5) # Any number is True, except 0\n",
    "print(type(bool_3), bool_3)\n",
    "\n",
    "bool_4 = bool(\"\")\n",
    "print(type(bool_4), bool_4) # Any string is True, except empty strings"
   ]
  },
  {
   "cell_type": "markdown",
   "metadata": {},
   "source": [
    "## 4. Operators"
   ]
  },
  {
   "cell_type": "markdown",
   "metadata": {},
   "source": [
    "### a. Arithmetic Operators"
   ]
  },
  {
   "cell_type": "code",
   "execution_count": 5,
   "metadata": {},
   "outputs": [
    {
     "name": "stdout",
     "output_type": "stream",
     "text": [
      "5\n",
      "1\n",
      "6\n",
      "1.5\n",
      "1\n"
     ]
    }
   ],
   "source": [
    "a = 3\n",
    "b = 2\n",
    "print(a+b)  # Addition\n",
    "print(a-b)  # Subtraction\n",
    "print(a*b)  # Multiplication\n",
    "print(a/b)  # Division\n",
    "print(a//b) # Floor division"
   ]
  },
  {
   "cell_type": "markdown",
   "metadata": {},
   "source": [
    "### b. Comparison  Operators "
   ]
  },
  {
   "cell_type": "code",
   "execution_count": 6,
   "metadata": {},
   "outputs": [
    {
     "name": "stdout",
     "output_type": "stream",
     "text": [
      "False\n",
      "True\n",
      "True\n",
      "False\n"
     ]
    }
   ],
   "source": [
    "print(a == b) # Equal\n",
    "print(a != b) # Not Equal\n",
    "print(a > b)  # Greater than\n",
    "print(a < b)  # Less than"
   ]
  },
  {
   "cell_type": "markdown",
   "metadata": {},
   "source": [
    "### c. Logical Operators"
   ]
  },
  {
   "cell_type": "code",
   "execution_count": 7,
   "metadata": {
    "scrolled": true
   },
   "outputs": [
    {
     "name": "stdout",
     "output_type": "stream",
     "text": [
      "False\n",
      "True\n",
      "True\n"
     ]
    }
   ],
   "source": [
    "print(a < 1 and b > 1) # Returns True if both conditions are true\n",
    "print(a < 1 or b > 1)  # Returns True if either of conditions is true\n",
    "print(not(a < 1))      # Returns True if the condition is false"
   ]
  },
  {
   "cell_type": "markdown",
   "metadata": {},
   "source": [
    "### d. Identity Operators"
   ]
  },
  {
   "cell_type": "code",
   "execution_count": 8,
   "metadata": {},
   "outputs": [
    {
     "name": "stdout",
     "output_type": "stream",
     "text": [
      "False\n",
      "False\n"
     ]
    }
   ],
   "source": [
    "print(a is 'a')   # Returns True if both variables are the same object\n",
    "print(b is not 2) # Returns True if both variables are not the same object"
   ]
  }
 ],
 "metadata": {
  "kernelspec": {
   "display_name": "Python 3",
   "language": "python",
   "name": "python3"
  },
  "language_info": {
   "codemirror_mode": {
    "name": "ipython",
    "version": 3
   },
   "file_extension": ".py",
   "mimetype": "text/x-python",
   "name": "python",
   "nbconvert_exporter": "python",
   "pygments_lexer": "ipython3",
   "version": "3.7.7"
  }
 },
 "nbformat": 4,
 "nbformat_minor": 2
}
