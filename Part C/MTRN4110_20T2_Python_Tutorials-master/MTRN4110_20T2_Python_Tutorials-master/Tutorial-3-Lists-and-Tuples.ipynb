{
 "cells": [
  {
   "cell_type": "markdown",
   "metadata": {},
   "source": [
    "# Tutorial 3 Lists and Tuples\n",
    "\n",
    "## Aim\n",
    "\n",
    "In this tutorial, you will learn lists and tuples.\n",
    "\n",
    "## Prerequisites\n",
    "\n",
    "Python3"
   ]
  },
  {
   "cell_type": "markdown",
   "metadata": {},
   "source": [
    "### List\n",
    "\n",
    "A list is a collection which is ordered and changeable. In Python lists are written with square brackets."
   ]
  },
  {
   "cell_type": "code",
   "execution_count": 1,
   "metadata": {
    "scrolled": true
   },
   "outputs": [
    {
     "name": "stdout",
     "output_type": "stream",
     "text": [
      "['mtrn', '4110', '2020']\n",
      "mtrn\n",
      "2020\n",
      "['mtrn', '4110']\n",
      "['4110', '2020']\n",
      "['mtrn', '4110', '2019']\n",
      "['mtrn', '4110']\n",
      "['mtrn', '4110', 100, 200, 300]\n",
      "['mtrn', '4110', 100, 200, 300]\n",
      "['mtrn', '4110', 100, 200, 300, 'new']\n"
     ]
    }
   ],
   "source": [
    "list_1 = ['mtrn', '4110', '2020']\n",
    "print(list_1)\n",
    "print(list_1[0])  # Access the first item. Remember that the first item has index 0.\n",
    "print(list_1[-1]) # Access the last item\n",
    "print(list_1[0:2]) # return the first and second item\n",
    "print(list_1[1:]) # return items starting from second to the end\n",
    "list_1[-1] = '2019' # assign '2019' to the last item\n",
    "print(list_1)\n",
    "list_1.remove('2019') # remove specific items from the list\n",
    "print(list_1)\n",
    "\n",
    "list_2 = [100, 200, 300]\n",
    "print(list_1 + list_2)   # join two lists\n",
    "\n",
    "list_1.extend(list_2)   # add items from list_2 to list_1\n",
    "print(list_1)\n",
    "\n",
    "list_1.append('new')    # add an element at the end of the list_1\n",
    "print(list_1)           "
   ]
  },
  {
   "cell_type": "markdown",
   "metadata": {},
   "source": [
    "### Tuples\n",
    "A tuple is a collection which is ordered and unchangeable. In Python tuples are written with round brackets."
   ]
  },
  {
   "cell_type": "code",
   "execution_count": 2,
   "metadata": {},
   "outputs": [
    {
     "name": "stdout",
     "output_type": "stream",
     "text": [
      "('mtrn', '4110', '2020')\n",
      "mtrn\n",
      "2020\n",
      "('mtrn', '4110')\n",
      "('mtrn', '4110')\n"
     ]
    }
   ],
   "source": [
    "tuple_1 = ('mtrn', '4110', '2020')\n",
    "print(tuple_1)\n",
    "print(tuple_1[0])  # Access the first item\n",
    "print(tuple_1[-1]) # Access the last item\n",
    "print(tuple_1[0:2]) # return the first and second item\n",
    "print(tuple_1[:2]) # return items starting from the beginning to the second"
   ]
  },
  {
   "cell_type": "code",
   "execution_count": 3,
   "metadata": {},
   "outputs": [
    {
     "ename": "TypeError",
     "evalue": "'tuple' object does not support item assignment",
     "output_type": "error",
     "traceback": [
      "\u001b[1;31m---------------------------------------------------------------------------\u001b[0m",
      "\u001b[1;31mTypeError\u001b[0m                                 Traceback (most recent call last)",
      "\u001b[1;32m<ipython-input-3-19c1ba0f1362>\u001b[0m in \u001b[0;36m<module>\u001b[1;34m\u001b[0m\n\u001b[1;32m----> 1\u001b[1;33m \u001b[0mtuple_1\u001b[0m\u001b[1;33m[\u001b[0m\u001b[1;33m-\u001b[0m\u001b[1;36m1\u001b[0m\u001b[1;33m]\u001b[0m \u001b[1;33m=\u001b[0m \u001b[1;34m'2019'\u001b[0m \u001b[1;31m# Tuples are unchangeable so it will return errors\u001b[0m\u001b[1;33m\u001b[0m\u001b[1;33m\u001b[0m\u001b[0m\n\u001b[0m",
      "\u001b[1;31mTypeError\u001b[0m: 'tuple' object does not support item assignment"
     ]
    }
   ],
   "source": [
    "tuple_1[-1] = '2019' # Tuples are unchangeable so it will return errors"
   ]
  },
  {
   "cell_type": "code",
   "execution_count": 4,
   "metadata": {},
   "outputs": [
    {
     "name": "stdout",
     "output_type": "stream",
     "text": [
      "('mtrn', '4110', '2020')\n",
      "['mtrn', '4110', '2019']\n"
     ]
    }
   ],
   "source": [
    "list_2 = list(tuple_1) # Convert the tuple into a list so you can change it\n",
    "print(tuple_1)\n",
    "list_2[-1] = '2019'\n",
    "print(list_2)"
   ]
  }
 ],
 "metadata": {
  "kernelspec": {
   "display_name": "Python 3",
   "language": "python",
   "name": "python3"
  },
  "language_info": {
   "codemirror_mode": {
    "name": "ipython",
    "version": 3
   },
   "file_extension": ".py",
   "mimetype": "text/x-python",
   "name": "python",
   "nbconvert_exporter": "python",
   "pygments_lexer": "ipython3",
   "version": "3.7.7"
  }
 },
 "nbformat": 4,
 "nbformat_minor": 2
}
